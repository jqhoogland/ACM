{
 "cells": [
  {
   "cell_type": "code",
   "execution_count": 1,
   "metadata": {},
   "outputs": [],
   "source": [
    "import os, sys, logging\n",
    "\n",
    "import numpy as np\n",
    "import matplotlib.pyplot as plt\n",
    "\n",
    "module_path = os.path.abspath(os.path.join('..'))\n",
    "if module_path not in sys.path:\n",
    "    sys.path.append(module_path)\n",
    "    \n",
    "from kcm import *  "
   ]
  },
  {
   "cell_type": "code",
   "execution_count": 2,
   "metadata": {},
   "outputs": [],
   "source": [
    "probs = np.array([]) #np.arange(0.2, .8, 0.2)\n",
    " \n",
    "for prob in probs:\n",
    "    print(\"Probability: {}\".format(prob))\n",
    "    east_kcm = EastKCM(prob, 50, 200, 50000)\n",
    "    trajectory = east_kcm.gen_trajectory()\n",
    "    draw_trajectory(trajectory)"
   ]
  },
  {
   "cell_type": "markdown",
   "metadata": {},
   "source": [
    "This is what we want to see (also a reference for the parameter ranges)\n",
    "\n",
    "![goal.png](./goal1.png)\n",
    "\n",
    "# One-spin FA Model\n"
   ]
  },
  {
   "cell_type": "code",
   "execution_count": null,
   "metadata": {},
   "outputs": [
    {
     "name": "stdout",
     "output_type": "stream",
     "text": [
      "Probabilty of flip: 0.0; Probability of swap, s: 0.0\n",
      "Activity: 0.406650833333\n",
      "Probabilty of flip: 0.1; Probability of swap, s: 0.0\n",
      "Activity: 0.405913333333\n",
      "Probabilty of flip: 0.2; Probability of swap, s: 0.0\n",
      "Activity: 0.407458333333\n",
      "Probabilty of flip: 0.3; Probability of swap, s: 0.0\n",
      "Activity: 0.406611666667\n",
      "Probabilty of flip: 0.4; Probability of swap, s: 0.0\n",
      "Activity: 0.406419166667\n",
      "Probabilty of flip: 0.5; Probability of swap, s: 0.0\n",
      "Activity: 0.407633333333\n",
      "Probabilty of flip: 0.6; Probability of swap, s: 0.0\n",
      "Activity: 0.406043333333\n",
      "Probabilty of flip: 0.7; Probability of swap, s: 0.0\n",
      "Activity: 0.40592\n",
      "Probabilty of flip: 0.8; Probability of swap, s: 0.0\n",
      "Activity: 0.40652\n",
      "Probabilty of flip: 0.9; Probability of swap, s: 0.0\n",
      "Activity: 0.4067125\n",
      "Probabilty of flip: 0.0; Probability of swap, s: 0.1\n"
     ]
    }
   ],
   "source": [
    "# p_swaps = np.array([1e-3, 1e-2, 1e-1, 0.5, 1.])\n",
    "# p_flips = np.array([1e-3, 1e-2, 1e-1, 0.5, 1.])\n",
    "\n",
    "p_swaps = np.arange(0,1.,0.1)\n",
    "p_flips = np.arange(0,1.,0.1)\n",
    "\n",
    " \n",
    "#logging.basicConfig(level=logging.INFO)\n",
    "\n",
    "for p_swap in p_swaps:\n",
    "    for p_flip in p_flips:\n",
    "        print(\"Probabilty of flip: {}; Probability of swap, s: {}\".format(p_flip, p_swap))\n",
    "        fa_kcm = OneSpinFAKCM(prob_transition=p_swap, prob_swap=p_swap, num_burnin_steps=0, num_sites=60, num_steps=200, coupling_energy=1.)\n",
    "        trajectory = fa_kcm.gen_trajectory()\n",
    "        tps = TransitionPathSampler(fa_kcm, fa_kcm.activity)\n",
    "        print(\"Activity: {}\".format(tps.mc_average(100, verbose=False)))\n",
    "        #draw_trajectory(trajectory)"
   ]
  },
  {
   "cell_type": "markdown",
   "metadata": {},
   "source": [
    "# Softened FA Model"
   ]
  },
  {
   "cell_type": "code",
   "execution_count": null,
   "metadata": {},
   "outputs": [],
   "source": [
    "epsilons = np.array([1e-3, 1e-1, 1., 10.]) #np.array([1.9e-4, 6.3e-3,1.9e-2])\n",
    "ss = np.array([1e-3, 1e-1, 1., 10., 1000.])\n",
    "\n",
    "#logging.basicConfig(level=logging.INFO)\n",
    "\n",
    "for eps in epsilons:\n",
    "    for s in ss:\n",
    "        print(\"Softening parameter, epsilon: {}; Biasing field, s: {}\".format(eps, s))\n",
    "        fa_kcm = SoftenedFA(gamma=0.25, s=s, eps=eps, num_burnin_steps=0, num_sites=60, num_steps=2000)\n",
    "        trajectory = fa_kcm.gen_trajectory()\n",
    "        print(\"Activity: {}\".format(fa_kcm.activity(trajectory)))\n",
    "        draw_trajectory(trajectory)"
   ]
  },
  {
   "cell_type": "code",
   "execution_count": null,
   "metadata": {},
   "outputs": [],
   "source": [
    "for eps in epsilons:\n",
    "    logging.info(\"Softening parameter, \\epsilon: {}\".format(eps))\n",
    "    fa_kcm = SoftenedFA(gamma=0.25, eps=eps, s=0.01,num_burnin_steps=500, num_sites=60, num_steps=2000)\n",
    "    tps = SoftenedFATPS(fa_kcm, fa_kcm.activity)\n",
    "    trajectory = fa_kcm.gen_trajectory()\n",
    "    print(\"Activity: {}\".format(tps.mc_average(100, verbose=True)))"
   ]
  },
  {
   "cell_type": "code",
   "execution_count": null,
   "metadata": {},
   "outputs": [],
   "source": [
    "for prob_transition in np.arange(0,1,0.1):\n",
    "    fa_kcm = EastKCM(prob_transition=prob_transition, num_burnin_steps=500, num_sites=60, num_steps=600)\n",
    "    tps = SoftenedFATPS(fa_kcm, fa_kcm.activity)\n",
    "    trajectory = fa_kcm.gen_trajectory()\n",
    "    print(\"Prob transition: {}; Activity: {}\".format(prob_transition, tps.mc_average(100)))"
   ]
  },
  {
   "cell_type": "code",
   "execution_count": null,
   "metadata": {},
   "outputs": [],
   "source": []
  },
  {
   "cell_type": "code",
   "execution_count": null,
   "metadata": {},
   "outputs": [],
   "source": []
  }
 ],
 "metadata": {
  "kernelspec": {
   "display_name": "Python 3",
   "language": "python",
   "name": "python3"
  },
  "language_info": {
   "codemirror_mode": {
    "name": "ipython",
    "version": 2
   },
   "file_extension": ".py",
   "mimetype": "text/x-python",
   "name": "python",
   "nbconvert_exporter": "python",
   "pygments_lexer": "ipython2",
   "version": "2.7.15"
  }
 },
 "nbformat": 4,
 "nbformat_minor": 2
}
