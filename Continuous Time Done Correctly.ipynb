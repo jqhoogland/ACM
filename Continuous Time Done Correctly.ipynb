{
 "cells": [
  {
   "cell_type": "code",
   "execution_count": 1,
   "metadata": {},
   "outputs": [],
   "source": [
    "import os, sys, logging\n",
    "\n",
    "import numpy as np\n",
    "import matplotlib.pyplot as plt\n",
    "\n",
    "module_path = os.path.abspath(os.path.join('..'))\n",
    "if module_path not in sys.path:\n",
    "    sys.path.append(module_path)\n",
    "    \n",
    "from fa_discrete import *  "
   ]
  },
  {
   "cell_type": "markdown",
   "metadata": {},
   "source": [
    "This is what we want to see (also a reference for the parameter ranges)\n",
    "\n",
    "![goal.png](./goal1.png)\n"
   ]
  },
  {
   "cell_type": "markdown",
   "metadata": {},
   "source": [
    "# Softened FA Model"
   ]
  },
  {
   "cell_type": "code",
   "execution_count": 2,
   "metadata": {},
   "outputs": [
    {
     "name": "stdout",
     "output_type": "stream",
     "text": [
      "alpha -0.785352495173, g -0.881438173117\n",
      "9.133394747195167e-05\n",
      "alpha -0.783889059035, g -0.883509395671\n",
      "0.0030154862465769966\n",
      "alpha -0.78087893614, g -0.88777924657\n",
      "0.00901422493366287\n"
     ]
    }
   ],
   "source": [
    "eps = 0.00\n",
    "time_step = 0.01\n",
    "\n",
    "for eps in [1.9e-4, 6.3e-3, 1.9e-2]:\n",
    "    fa_kcm = SoftenedFA(gamma=0.25, eps=eps, num_burnin_steps=1000, num_sites=30, num_steps=10000, time_step=time_step)\n",
    "    print(fa_kcm.s)\n",
    "\n",
    "    "
   ]
  },
  {
   "cell_type": "code",
   "execution_count": 3,
   "metadata": {},
   "outputs": [
    {
     "ename": "NameError",
     "evalue": "name 'draw_activity_for_fixed_eps' is not defined",
     "output_type": "error",
     "traceback": [
      "\u001b[0;31m---------------------------------------------------------------------------\u001b[0m",
      "\u001b[0;31mNameError\u001b[0m                                 Traceback (most recent call last)",
      "\u001b[0;32m<ipython-input-3-830d017cbad0>\u001b[0m in \u001b[0;36m<module>\u001b[0;34m()\u001b[0m\n\u001b[0;32m----> 1\u001b[0;31m \u001b[0mdraw_activity_for_fixed_eps\u001b[0m\u001b[0;34m(\u001b[0m\u001b[0meps\u001b[0m\u001b[0;34m,\u001b[0m \u001b[0mnp\u001b[0m\u001b[0;34m.\u001b[0m\u001b[0marray\u001b[0m\u001b[0;34m(\u001b[0m\u001b[0;34m[\u001b[0m\u001b[0;34m-\u001b[0m\u001b[0;36m1.\u001b[0m\u001b[0;34m,\u001b[0m \u001b[0;34m-\u001b[0m\u001b[0;36m.1\u001b[0m\u001b[0;34m,\u001b[0m \u001b[0;36m.1\u001b[0m\u001b[0;34m,\u001b[0m \u001b[0;36m1.\u001b[0m\u001b[0;34m]\u001b[0m\u001b[0;34m)\u001b[0m\u001b[0;34m,\u001b[0m \u001b[0mnp\u001b[0m\u001b[0;34m.\u001b[0m\u001b[0marray\u001b[0m\u001b[0;34m(\u001b[0m\u001b[0;34m[\u001b[0m\u001b[0;36m1.\u001b[0m\u001b[0;34m,\u001b[0m \u001b[0;36m.9\u001b[0m\u001b[0;34m,\u001b[0m \u001b[0;36m.1\u001b[0m\u001b[0;34m,\u001b[0m \u001b[0;36m0.\u001b[0m\u001b[0;34m]\u001b[0m\u001b[0;34m)\u001b[0m\u001b[0;34m,\u001b[0m \u001b[0mactivity_errs\u001b[0m\u001b[0;34m=\u001b[0m\u001b[0mnp\u001b[0m\u001b[0;34m.\u001b[0m\u001b[0marray\u001b[0m\u001b[0;34m(\u001b[0m\u001b[0;34m[\u001b[0m\u001b[0;36m.1\u001b[0m\u001b[0;34m,\u001b[0m \u001b[0;36m.1\u001b[0m\u001b[0;34m,\u001b[0m \u001b[0;36m.1\u001b[0m\u001b[0;34m,\u001b[0m \u001b[0;36m.2\u001b[0m\u001b[0;34m]\u001b[0m\u001b[0;34m)\u001b[0m\u001b[0;34m)\u001b[0m\u001b[0;34m\u001b[0m\u001b[0m\n\u001b[0m\u001b[1;32m      2\u001b[0m \u001b[0mdraw_activity_for_fixed_eps\u001b[0m\u001b[0;34m(\u001b[0m\u001b[0;36m0.01\u001b[0m\u001b[0;34m,\u001b[0m \u001b[0mnp\u001b[0m\u001b[0;34m.\u001b[0m\u001b[0marray\u001b[0m\u001b[0;34m(\u001b[0m\u001b[0;34m[\u001b[0m\u001b[0;34m-\u001b[0m\u001b[0;36m1.\u001b[0m\u001b[0;34m,\u001b[0m \u001b[0;34m-\u001b[0m\u001b[0;36m.1\u001b[0m\u001b[0;34m,\u001b[0m \u001b[0;36m.1\u001b[0m\u001b[0;34m,\u001b[0m \u001b[0;36m1.\u001b[0m\u001b[0;34m]\u001b[0m\u001b[0;34m)\u001b[0m\u001b[0;34m,\u001b[0m \u001b[0mnp\u001b[0m\u001b[0;34m.\u001b[0m\u001b[0marray\u001b[0m\u001b[0;34m(\u001b[0m\u001b[0;34m[\u001b[0m\u001b[0;36m.9\u001b[0m\u001b[0;34m,\u001b[0m \u001b[0;36m.6\u001b[0m\u001b[0;34m,\u001b[0m \u001b[0;36m.4\u001b[0m\u001b[0;34m,\u001b[0m \u001b[0;36m.2\u001b[0m\u001b[0;34m]\u001b[0m\u001b[0;34m)\u001b[0m\u001b[0;34m,\u001b[0m \u001b[0mactivity_errs\u001b[0m\u001b[0;34m=\u001b[0m\u001b[0mnp\u001b[0m\u001b[0;34m.\u001b[0m\u001b[0marray\u001b[0m\u001b[0;34m(\u001b[0m\u001b[0;34m[\u001b[0m\u001b[0;36m.2\u001b[0m\u001b[0;34m,\u001b[0m \u001b[0;36m.1\u001b[0m\u001b[0;34m,\u001b[0m \u001b[0;36m.15\u001b[0m\u001b[0;34m,\u001b[0m \u001b[0;36m.2\u001b[0m\u001b[0;34m]\u001b[0m\u001b[0;34m)\u001b[0m\u001b[0;34m)\u001b[0m\u001b[0;34m\u001b[0m\u001b[0m\n\u001b[1;32m      3\u001b[0m \u001b[0;34m\u001b[0m\u001b[0m\n\u001b[1;32m      4\u001b[0m \u001b[0mplt\u001b[0m\u001b[0;34m.\u001b[0m\u001b[0mshow\u001b[0m\u001b[0;34m(\u001b[0m\u001b[0;34m)\u001b[0m\u001b[0;34m\u001b[0m\u001b[0m\n",
      "\u001b[0;31mNameError\u001b[0m: name 'draw_activity_for_fixed_eps' is not defined"
     ]
    }
   ],
   "source": [
    "draw_activity_for_fixed_eps(eps, np.array([-1., -.1, .1, 1.]), np.array([1., .9, .1, 0.]), activity_errs=np.array([.1, .1, .1, .2]))\n",
    "draw_activity_for_fixed_eps(0.01, np.array([-1., -.1, .1, 1.]), np.array([.9, .6, .4, .2]), activity_errs=np.array([.2, .1, .15, .2]))\n",
    "\n",
    "plt.show()"
   ]
  },
  {
   "cell_type": "code",
   "execution_count": null,
   "metadata": {},
   "outputs": [],
   "source": [
    "s = 1.\n",
    "\n",
    "logging.basicConfig(level=logging.INFO)\n",
    "\n",
    "fa_kcm = SoftenedFA(gamma=0.25, s=s, eps=eps, num_burnin_steps=1000, num_sites=30, num_steps=10000, time_step=time_step)\n",
    "tps = SoftenedFATPS(fa_kcm, fa_kcm.activity_intensive)\n",
    "#tps = SoftenedFATPS(fa_kcm, lambda t, o: fa_kcm.fixed_time_activity(t, o, 250.))\n",
    "activity_avg, activity_err = tps.mc_analysis(num_samples=10, num_burnin_steps=100, draw=True, draw_every=10)\n",
    "\n",
    "print(\"Average Activity: {}; Activity Error: {}\".format(activity_avg, activity_err))"
   ]
  },
  {
   "cell_type": "code",
   "execution_count": null,
   "metadata": {},
   "outputs": [],
   "source": [
    "s = -.1\n",
    "\n",
    "fa_kcm = SoftenedFA(gamma=0.25, s=s, eps=eps, num_burnin_steps=1000, num_sites=30, num_steps=10000,time_step=time_step)\n",
    "tps = SoftenedFATPS(fa_kcm, fa_kcm.activity_intensive)\n",
    "\n",
    "#tps = SoftenedFATPS(fa_kcm, lambda t, o: fa_kcm.fixed_time_activity(t, o, 250.))\n",
    "tps.mc_average(num_samples=10, num_burnin_steps=100, draw=True, draw_every=10)"
   ]
  },
  {
   "cell_type": "code",
   "execution_count": null,
   "metadata": {},
   "outputs": [],
   "source": [
    "s = 0.005\n",
    "\n",
    "fa_kcm = SoftenedFA(gamma=0.25, s=s, eps=eps, num_burnin_steps=1000, num_sites=30, num_steps=10000,time_step=time_step)\n",
    "tps = SoftenedFATPS(fa_kcm, fa_kcm.activity_intensive)\n",
    "#tps = SoftenedFATPS(fa_kcm, lambda t, o: fa_kcm.fixed_time_activity(t, o, 250.))\n",
    "tps.mc_average(num_samples=10, num_burnin_steps=100, draw=True, draw_every=10)"
   ]
  },
  {
   "cell_type": "markdown",
   "metadata": {},
   "source": [
    "ss = np.arange(0, 0.008, 0.001)\n",
    "\n",
    "#logging.basicConfig(level=logging.INFO)\n",
    "eps = 0.0063\n",
    "\n",
    "activities = np.zeros(ss.size)\n",
    "for i,s in enumerate(ss):\n",
    "    #print(\"Softening parameter, epsilon: {}; Biasing field, s: {}\".format(eps, s))\n",
    "    fa_kcm = SoftenedFA(gamma=0.25, s=s, eps=eps, num_burnin_steps=1000, num_sites=30, num_steps=1000)\n",
    "    print(\"crit s\", fa_kcm.get_critical_s())\n",
    "    tps = SoftenedFATPS(fa_kcm, fa_kcm.activity)\n",
    "    activities[i] = tps.mc_average(10, num_burnin_steps=10)\n",
    "    print(\"Activity: {}\".format(activities[i]))\n",
    "        # draw_trajectory(trajectory, occupation_times)\n",
    "   \n",
    "plt.plot(ss, activities, )\n",
    "plt.xlabel(\"s\")\n",
    "plt.ylabel(\"K\")\n",
    "plt.title(\"Activity with s for fixed epsilon = {}\".format(eps))"
   ]
  },
  {
   "cell_type": "markdown",
   "metadata": {},
   "source": [
    "ss = np.array([-1., -1e-1, -1e-3, -1e-4, 1e-4, 1e-3, 1e-1, 1.])\n",
    "\n",
    "eps = 0.\n",
    "\n",
    "activities = np.zeros(ss.size)\n",
    "for i,s in enumerate(ss):\n",
    "    #print(\"Softening parameter, epsilon: {}; Biasing field, s: {}\".format(eps, s))\n",
    "    fa_kcm = SoftenedFA(gamma=0.25, s=s, eps=eps, num_burnin_steps=1000, num_sites=60, num_steps=1000)\n",
    "    print(\"crit s\", fa_kcm.get_critical_s())\n",
    "\n",
    "    tps = SoftenedFATPS(fa_kcm, fa_kcm.activity)\n",
    "    activities[i] = tps.mc_average(10, num_burnin_steps=10)\n",
    "    print(\"Activity: {}\".format(activities[i]))\n",
    "        # draw_trajectory(trajectory, occupation_times)\n",
    "   \n",
    "plt.plot(ss, activities, )\n",
    "plt.xlabel(\"s\")\n",
    "plt.ylabel(\"K\")\n",
    "plt.title(\"Activity with s for fixed epsilon = {}\".format(eps))"
   ]
  },
  {
   "cell_type": "markdown",
   "metadata": {},
   "source": [
    "ss = np.array([-1., -1e-1, -1e-2, -1e-3, -5e-4, -1e-4, 1e-4, 5e-4,1e-3, 1e-2, 1e-1, 1.])\n",
    "\n",
    "#logging.basicConfig(level=logging.INFO)\n",
    "eps = 0.001\n",
    "\n",
    "activities = np.zeros(ss.size)\n",
    "for i,s in enumerate(ss):\n",
    "    #print(\"Softening parameter, epsilon: {}; Biasing field, s: {}\".format(eps, s))\n",
    "    fa_kcm = SoftenedFA(gamma=0.25, s=s, eps=eps, num_burnin_steps=1000, num_sites=60, num_steps=1000)\n",
    "    tps = SoftenedFATPS(fa_kcm, fa_kcm.activity)\n",
    "    activities[i] = tps.mc_average(10, num_burnin_steps=10)\n",
    "    print(\"Activity: {}\".format(activities[i]))\n",
    "        # draw_trajectory(trajectory, occupation_times)\n",
    "   \n",
    "plt.plot(ss, activities, )\n",
    "plt.xlabel(\"s\")\n",
    "plt.ylabel(\"K\")\n",
    "plt.title(\"Activity with s for fixed epsilon = {}\".format(eps))"
   ]
  },
  {
   "cell_type": "markdown",
   "metadata": {},
   "source": [
    "s = 0.\n",
    "#logging.basicConfig(level=logging.INFO)\n",
    "epss = np.array([0., 5e-5, 1e-5, 5e-4, 1e-4,5e-3,1e-3, 1e-1])\n",
    "\n",
    "\n",
    "activities = np.zeros(epss.size)\n",
    "for i, eps in enumerate(epss):\n",
    "    #print(\"Softening parameter, epsilon: {}; Biasing field, s: {}\".format(eps, s))\n",
    "    fa_kcm = SoftenedFA(gamma=0.25, s=s, eps=eps, num_burnin_steps=1000, num_sites=60, num_steps=1000)\n",
    "    tps = SoftenedFATPS(fa_kcm, fa_kcm.activity)\n",
    "    activities[i] = tps.mc_average(10, num_burnin_steps=10)\n",
    "    print(\"Activity: {}\".format(activities[i]))\n",
    "    # draw_trajectory(trajectory, occupation_times)\n",
    "   \n",
    "plt.plot(epss, activities)\n",
    "plt.xlabel(\"eps\")\n",
    "plt.ylabel(\"K\")\n",
    "plt.title(\"Activity with epsilon for fixed s = {}\".format(s))"
   ]
  },
  {
   "cell_type": "markdown",
   "metadata": {},
   "source": [
    "s = 0.01\n",
    "#logging.basicConfig(level=logging.INFO)\n",
    "epss = np.array([0., 1e-5, 1e-4, 1e-3, 1e-1, 0.2])\n",
    "\n",
    "\n",
    "activities = np.zeros(epss.size)\n",
    "for i, eps in enumerate(epss):\n",
    "    #print(\"Softening parameter, epsilon: {}; Biasing field, s: {}\".format(eps, s))\n",
    "    fa_kcm = SoftenedFA(gamma=0.25, s=s, eps=eps, num_burnin_steps=1000, num_sites=60, num_steps=1000)\n",
    "    tps = SoftenedFATPS(fa_kcm, fa_kcm.activity)\n",
    "    activities[i] = tps.mc_average(10, num_burnin_steps=100)\n",
    "    print(\"Activity: {}\".format(activities[i]))\n",
    "    # draw_trajectory(trajectory, occupation_times)\n",
    "   \n",
    "plt.plot(epss, activities)\n",
    "plt.xlabel(\"eps\")\n",
    "plt.ylabel(\"K\")\n",
    "plt.title(\"Activity with epsilon for fixed s = {}\".format(s))"
   ]
  },
  {
   "cell_type": "markdown",
   "metadata": {},
   "source": [
    "#logging.basicConfig(level=logging.INFO)\n",
    "epss = np.array([0., 1e-5, 1e-4, 1e-3, 1e-1, 0.2])\n",
    "ss = np.zeros(epss.size)\n",
    "\n",
    "activities = np.zeros(epss.size)\n",
    "for i, eps in enumerate(epss):\n",
    "    #print(\"Softening parameter, epsilon: {}; Biasing field, s: {}\".format(eps, s))\n",
    "    fa_kcm = SoftenedFA(gamma=0.25, eps=eps, num_burnin_steps=1000, num_sites=60, num_steps=1000)\n",
    "    ss[i] = fa_kcm.s\n",
    "    tps = SoftenedFATPS(fa_kcm, fa_kcm.activity)\n",
    "    activities[i] = tps.mc_average(10, num_burnin_steps=100)\n",
    "    print(\"Activity: {}\".format(activities[i]))\n",
    "    # draw_trajectory(trajectory, occupation_times)\n",
    "\n",
    "\n",
    "plt.plot(epss, activities)\n",
    "plt.xlabel(\"eps\")\n",
    "plt.ylabel(\"K\")\n",
    "plt.title(\"Activity with epsilon for fixed s = {}\".format(s))\n",
    "plt.show()\n",
    "\n",
    "plt.plot(epss, ss)\n",
    "plt.xlabel(\"eps\")\n",
    "plt.ylabel(\"s\")\n",
    "plt.title(\"Critical biasing field for epsilon\".format(s))\n",
    "plt.show()"
   ]
  },
  {
   "cell_type": "markdown",
   "metadata": {},
   "source": []
  }
 ],
 "metadata": {
  "kernelspec": {
   "display_name": "Python 3",
   "language": "python",
   "name": "python3"
  },
  "language_info": {
   "codemirror_mode": {
    "name": "ipython",
    "version": 2
   },
   "file_extension": ".py",
   "mimetype": "text/x-python",
   "name": "python",
   "nbconvert_exporter": "python",
   "pygments_lexer": "ipython2",
   "version": "2.7.15"
  }
 },
 "nbformat": 4,
 "nbformat_minor": 2
}
